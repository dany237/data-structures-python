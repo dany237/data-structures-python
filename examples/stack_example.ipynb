{
 "cells": [
  {
   "cell_type": "code",
   "execution_count": 3,
   "metadata": {},
   "outputs": [],
   "source": [
    "import sys\n",
    "sys.path.append('..')  # go up to 'data_structures_python'\n",
    "\n",
    "from data_structures import Stack"
   ]
  },
  {
   "cell_type": "code",
   "execution_count": 5,
   "metadata": {},
   "outputs": [
    {
     "name": "stdout",
     "output_type": "stream",
     "text": [
      "Is empty? None\n",
      "Stack after pushes:\n"
     ]
    },
    {
     "ename": "AttributeError",
     "evalue": "'Stack' object has no attribute 'Stack'",
     "output_type": "error",
     "traceback": [
      "\u001b[31m---------------------------------------------------------------------------\u001b[39m",
      "\u001b[31mAttributeError\u001b[39m                            Traceback (most recent call last)",
      "\u001b[36mCell\u001b[39m\u001b[36m \u001b[39m\u001b[32mIn[5]\u001b[39m\u001b[32m, line 10\u001b[39m\n\u001b[32m      7\u001b[39m s.push(\u001b[32m30\u001b[39m)\n\u001b[32m      9\u001b[39m \u001b[38;5;28mprint\u001b[39m(\u001b[33m\"\u001b[39m\u001b[33mStack after pushes:\u001b[39m\u001b[33m\"\u001b[39m)\n\u001b[32m---> \u001b[39m\u001b[32m10\u001b[39m \u001b[43ms\u001b[49m\u001b[43m.\u001b[49m\u001b[43mdisplay_stack\u001b[49m\u001b[43m(\u001b[49m\u001b[43m)\u001b[49m                 \u001b[38;5;66;03m# [10, 20, 30]\u001b[39;00m\n\u001b[32m     12\u001b[39m \u001b[38;5;28mprint\u001b[39m(\u001b[33m\"\u001b[39m\u001b[33mTop element:\u001b[39m\u001b[33m\"\u001b[39m, s.top())    \u001b[38;5;66;03m# 30\u001b[39;00m\n\u001b[32m     14\u001b[39m \u001b[38;5;28mprint\u001b[39m(\u001b[33m\"\u001b[39m\u001b[33mPop element:\u001b[39m\u001b[33m\"\u001b[39m, s.pop())    \u001b[38;5;66;03m# 30\u001b[39;00m\n",
      "\u001b[36mFile \u001b[39m\u001b[32m~/Desktop/data-structures-python/examples/../data_structures/stack.py:22\u001b[39m, in \u001b[36mStack.display_stack\u001b[39m\u001b[34m(self)\u001b[39m\n\u001b[32m     21\u001b[39m \u001b[38;5;28;01mdef\u001b[39;00m\u001b[38;5;250m \u001b[39m\u001b[34mdisplay_stack\u001b[39m(\u001b[38;5;28mself\u001b[39m):\n\u001b[32m---> \u001b[39m\u001b[32m22\u001b[39m   \u001b[38;5;28mprint\u001b[39m(\u001b[38;5;28;43mself\u001b[39;49m\u001b[43m.\u001b[49m\u001b[43mStack\u001b[49m)\n",
      "\u001b[31mAttributeError\u001b[39m: 'Stack' object has no attribute 'Stack'"
     ]
    }
   ],
   "source": [
    "s = Stack()\n",
    "\n",
    "print(\"Is empty?\", s.isEmpty())   # True\n",
    "\n",
    "s.push(10)\n",
    "s.push(20)\n",
    "s.push(30)\n",
    "\n",
    "print(\"Stack after pushes:\")\n",
    "s.display_stack()                 # [10, 20, 30]\n",
    "\n",
    "print(\"Top element:\", s.top())    # 30\n",
    "\n",
    "print(\"Pop element:\", s.pop())    # 30\n",
    "print(\"Stack after pop:\")\n",
    "s.display_stack()                 # [10, 20]\n",
    "\n",
    "print(\"Is empty?\", s.isEmpty())   # False\n"
   ]
  }
 ],
 "metadata": {
  "kernelspec": {
   "display_name": "3.13.2",
   "language": "python",
   "name": "python3"
  },
  "language_info": {
   "codemirror_mode": {
    "name": "ipython",
    "version": 3
   },
   "file_extension": ".py",
   "mimetype": "text/x-python",
   "name": "python",
   "nbconvert_exporter": "python",
   "pygments_lexer": "ipython3",
   "version": "3.13.2"
  }
 },
 "nbformat": 4,
 "nbformat_minor": 2
}
