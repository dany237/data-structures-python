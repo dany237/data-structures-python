{
 "cells": [
  {
   "cell_type": "code",
   "execution_count": 5,
   "metadata": {},
   "outputs": [
    {
     "ename": "ModuleNotFoundError",
     "evalue": "No module named 'data_structures'",
     "output_type": "error",
     "traceback": [
      "\u001b[31m---------------------------------------------------------------------------\u001b[39m",
      "\u001b[31mModuleNotFoundError\u001b[39m                       Traceback (most recent call last)",
      "\u001b[36mCell\u001b[39m\u001b[36m \u001b[39m\u001b[32mIn[5]\u001b[39m\u001b[32m, line 1\u001b[39m\n\u001b[32m----> \u001b[39m\u001b[32m1\u001b[39m \u001b[38;5;28;01mfrom\u001b[39;00m\u001b[38;5;250m \u001b[39m\u001b[34;01mdata_structures\u001b[39;00m\u001b[38;5;250m \u001b[39m\u001b[38;5;28;01mimport\u001b[39;00m CircularLinkedList\n",
      "\u001b[31mModuleNotFoundError\u001b[39m: No module named 'data_structures'"
     ]
    }
   ],
   "source": [
    "from data_structures import CircularLinkedList"
   ]
  },
  {
   "cell_type": "code",
   "execution_count": 3,
   "metadata": {},
   "outputs": [
    {
     "name": "stdout",
     "output_type": "stream",
     "text": [
      "5 → 10 → 20 → (back to head)\n",
      "5 → 20 → (back to head)\n",
      "Length: 2\n"
     ]
    }
   ],
   "source": [
    "from circular_linked_list import CircularLinkedList\n",
    "\n",
    "cll = CircularLinkedList()\n",
    "cll.insert_at_end(10)\n",
    "cll.insert_at_end(20)\n",
    "cll.insert_at_beginning(5)\n",
    "cll.display()   # Output: 5 → 10 → 20 → (back to head)\n",
    "\n",
    "cll.delete(10)\n",
    "cll.display()   # Output: 5 → 20 → (back to head)\n",
    "print(\"Length:\", cll.length())  # Output: 2\n"
   ]
  }
 ],
 "metadata": {
  "kernelspec": {
   "display_name": "3.13.2",
   "language": "python",
   "name": "python3"
  },
  "language_info": {
   "codemirror_mode": {
    "name": "ipython",
    "version": 3
   },
   "file_extension": ".py",
   "mimetype": "text/x-python",
   "name": "python",
   "nbconvert_exporter": "python",
   "pygments_lexer": "ipython3",
   "version": "3.13.2"
  }
 },
 "nbformat": 4,
 "nbformat_minor": 2
}
